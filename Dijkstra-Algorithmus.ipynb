{
 "cells": [
  {
   "cell_type": "code",
   "execution_count": 2,
   "metadata": {},
   "outputs": [],
   "source": [
    "import numpy as np"
   ]
  },
  {
   "cell_type": "markdown",
   "metadata": {},
   "source": [
    "# Graph Representation\n",
    "\n",
    "We represent the graph as an adjacency (germ. \"Nähe\", \"Nachbarschaft\") matrix $G$ with $G_{ij}=0$ as no connection between node $i$ and $f$ and $G_{ij}\\neq0$ as a single connection between the two nodes."
   ]
  },
  {
   "cell_type": "markdown",
   "metadata": {},
   "source": [
    "![example](assets/graph-example.png)"
   ]
  },
  {
   "cell_type": "code",
   "execution_count": 18,
   "metadata": {},
   "outputs": [],
   "source": [
    "G = np.ones(shape=(6,6))*np.inf"
   ]
  },
  {
   "cell_type": "code",
   "execution_count": 19,
   "metadata": {},
   "outputs": [],
   "source": [
    "G[0,1] = 4\n",
    "G[0,2] = 3\n",
    "G[2,4] = 3\n",
    "G[1,4] = 1\n",
    "G[1,3] = 3\n",
    "G[3,5] = 2\n",
    "G[4,5] = 2"
   ]
  },
  {
   "cell_type": "code",
   "execution_count": 20,
   "metadata": {
    "scrolled": true
   },
   "outputs": [
    {
     "data": {
      "text/plain": [
       "array([[inf,  4.,  3., inf, inf, inf],\n",
       "       [inf, inf, inf,  3.,  1., inf],\n",
       "       [inf, inf, inf, inf,  3., inf],\n",
       "       [inf, inf, inf, inf, inf,  2.],\n",
       "       [inf, inf, inf, inf, inf,  2.],\n",
       "       [inf, inf, inf, inf, inf, inf]])"
      ]
     },
     "execution_count": 20,
     "metadata": {},
     "output_type": "execute_result"
    }
   ],
   "source": [
    "G"
   ]
  },
  {
   "cell_type": "code",
   "execution_count": 145,
   "metadata": {},
   "outputs": [],
   "source": [
    "def get_neighbours(x, G):\n",
    "    mask = G[x, :] < np.inf\n",
    "    return np.nonzero(mask)[0].tolist()"
   ]
  },
  {
   "cell_type": "code",
   "execution_count": 146,
   "metadata": {},
   "outputs": [
    {
     "data": {
      "text/plain": [
       "[3, 4]"
      ]
     },
     "execution_count": 146,
     "metadata": {},
     "output_type": "execute_result"
    }
   ],
   "source": [
    "get_neighbours(1, G)"
   ]
  },
  {
   "cell_type": "markdown",
   "metadata": {},
   "source": [
    "We start with the node 1 (index `0`)"
   ]
  },
  {
   "cell_type": "code",
   "execution_count": 147,
   "metadata": {},
   "outputs": [],
   "source": [
    "node_current = node_start = 0"
   ]
  },
  {
   "cell_type": "code",
   "execution_count": 148,
   "metadata": {},
   "outputs": [],
   "source": [
    "distance_array = [0, G[0, 1], G[0, 2], np.inf, np.inf, np.inf]"
   ]
  },
  {
   "cell_type": "code",
   "execution_count": 149,
   "metadata": {},
   "outputs": [],
   "source": [
    "precursor_array = [None]*6\n",
    "precursor_array[0] = 0\n",
    "precursor_array[1] = 0\n",
    "precursor_array[2] = 0"
   ]
  },
  {
   "cell_type": "markdown",
   "metadata": {},
   "source": [
    "Define node set $V$ with all available nodes."
   ]
  },
  {
   "cell_type": "code",
   "execution_count": 150,
   "metadata": {},
   "outputs": [],
   "source": [
    "V = {0, 1, 2, 3, 4, 5}"
   ]
  },
  {
   "cell_type": "markdown",
   "metadata": {},
   "source": [
    "Define node set $R$ with already visited sets."
   ]
  },
  {
   "cell_type": "code",
   "execution_count": 151,
   "metadata": {},
   "outputs": [],
   "source": [
    "R = {0}"
   ]
  },
  {
   "cell_type": "code",
   "execution_count": 152,
   "metadata": {
    "scrolled": true
   },
   "outputs": [
    {
     "name": "stdout",
     "output_type": "stream",
     "text": [
      "w: 2\n",
      "neighbours from w {4}\n",
      "00: [0, 4.0, 3.0, inf, 6.0, inf]\n",
      "w: 1\n",
      "neighbours from w {3, 4}\n",
      "01: [0, 4.0, 3.0, 7.0, 5.0, inf]\n",
      "w: 4\n",
      "neighbours from w {5}\n",
      "02: [0, 4.0, 3.0, 7.0, 5.0, 7.0]\n",
      "w: 3\n",
      "neighbours from w {5}\n",
      "03: [0, 4.0, 3.0, 7.0, 5.0, 7.0]\n",
      "w: 5\n",
      "neighbours from w set()\n",
      "04: [0, 4.0, 3.0, 7.0, 5.0, 7.0]\n"
     ]
    }
   ],
   "source": [
    "iteration = 0\n",
    "while V.difference(R) != set():\n",
    "    \n",
    "    not_visited_nodes = list(V.difference(R))\n",
    "    \n",
    "    w = None\n",
    "    min_distance = np.inf\n",
    "    for i in not_visited_nodes:\n",
    "        if distance_array[i] < min_distance:\n",
    "            min_distance = distance_array[i]\n",
    "            w = i\n",
    "    R.add(w)\n",
    "    \n",
    "    print(\"w:\", w)\n",
    "    \n",
    "    neighbours_w = get_neighbours(w, G)\n",
    "    neighbours_w = set(neighbours_w).intersection(V.difference(R))\n",
    "    \n",
    "    print(\"neighbours from w\", neighbours_w)\n",
    "    \n",
    "    for u in neighbours_w:\n",
    "        if distance_array[u] > (distance_array[w]+G[w, u]):\n",
    "            distance_array[u] = distance_array[w]+G[w, u]\n",
    "            precursor_array[u] = w\n",
    "    \n",
    "    print(\"%02d: %s\" % (iteration, str(distance_array)))\n",
    "    \n",
    "    iteration += 1"
   ]
  },
  {
   "cell_type": "code",
   "execution_count": 153,
   "metadata": {},
   "outputs": [
    {
     "data": {
      "text/plain": [
       "[0, 0, 0, 1, 1, 4]"
      ]
     },
     "execution_count": 153,
     "metadata": {},
     "output_type": "execute_result"
    }
   ],
   "source": [
    "precursor_array"
   ]
  },
  {
   "cell_type": "markdown",
   "metadata": {},
   "source": [
    "Der kürzeste weg von Knoten 6 zu Knoten 1:"
   ]
  },
  {
   "cell_type": "code",
   "execution_count": 159,
   "metadata": {},
   "outputs": [
    {
     "name": "stdout",
     "output_type": "stream",
     "text": [
      "6\n",
      "5\n",
      "2\n",
      "1\n"
     ]
    }
   ],
   "source": [
    "j = 5\n",
    "print(j+1)\n",
    "while j != 0:\n",
    "    print(precursor_array[j]+1)\n",
    "    j = precursor_array[j]"
   ]
  },
  {
   "cell_type": "code",
   "execution_count": null,
   "metadata": {},
   "outputs": [],
   "source": []
  }
 ],
 "metadata": {
  "kernelspec": {
   "display_name": "Python 3",
   "language": "python",
   "name": "python3"
  },
  "language_info": {
   "codemirror_mode": {
    "name": "ipython",
    "version": 3
   },
   "file_extension": ".py",
   "mimetype": "text/x-python",
   "name": "python",
   "nbconvert_exporter": "python",
   "pygments_lexer": "ipython3",
   "version": "3.7.3"
  }
 },
 "nbformat": 4,
 "nbformat_minor": 2
}
