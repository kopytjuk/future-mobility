{
 "cells": [
  {
   "cell_type": "code",
   "execution_count": 6,
   "metadata": {},
   "outputs": [],
   "source": [
    "import numpy as np\n",
    "import matplotlib.pyplot as plt\n",
    "from scipy.integrate import solve_ivp"
   ]
  },
  {
   "cell_type": "code",
   "execution_count": 7,
   "metadata": {},
   "outputs": [],
   "source": [
    "%matplotlib inline"
   ]
  },
  {
   "cell_type": "markdown",
   "metadata": {},
   "source": [
    "In diesem Notebook wird das das dynamische lineare Einspurmodell implementiert.\n",
    "\n",
    "![schema](https://upload.wikimedia.org/wikipedia/commons/thumb/2/24/EinspurKinematik.png/370px-EinspurKinematik.png)"
   ]
  },
  {
   "cell_type": "markdown",
   "metadata": {},
   "source": [
    "![dgl-system](assets/dgl-system.png)"
   ]
  },
  {
   "cell_type": "markdown",
   "metadata": {},
   "source": [
    "für die DGL setzen wir:\n",
    "\n",
    "\\begin{equation}\n",
    "\\dot\\phi = \\omega\n",
    "\\end{equation}"
   ]
  },
  {
   "cell_type": "code",
   "execution_count": 12,
   "metadata": {},
   "outputs": [],
   "source": [
    "c_v = 0.1\n",
    "c_h = 0.1\n",
    "m = 1000\n",
    "l_v = 2\n",
    "l_h = 2\n",
    "J = 42"
   ]
  },
  {
   "cell_type": "markdown",
   "metadata": {},
   "source": [
    "Input function:"
   ]
  },
  {
   "cell_type": "code",
   "execution_count": 13,
   "metadata": {},
   "outputs": [],
   "source": [
    "def δ_v(t):\n",
    "    return 0"
   ]
  },
  {
   "cell_type": "code",
   "execution_count": 24,
   "metadata": {},
   "outputs": [],
   "source": [
    "def transition_model(t, state):\n",
    "    v, β, 𝜔 = state\n",
    "    v_dot = c_v/m*δ_v(t) + c_v*l_v/(m*v)*δ_v(t)*𝜔 - c_v/m*δ_v(t)**2\n",
    "    β_dot = - (c_v+c_h)/(m*v)*β + (-1 + (c_h*l_h-c_v*l_v)/(m*v**2))*𝜔 + c_v/(m*v)*δ_v(t)\n",
    "    𝜔_dot = (c_h*l_h-c_v*l_v)/J*β - (c_h*l_h**2 + c_v*l_v**2)/(J*v)*𝜔 + c_v*l_v/J*δ_v(t)\n",
    "    return np.r_[v_dot, β_dot, 𝜔_dot]"
   ]
  },
  {
   "cell_type": "code",
   "execution_count": 25,
   "metadata": {},
   "outputs": [],
   "source": [
    "initial_state = np.r_[33.3, 0, 0]"
   ]
  },
  {
   "cell_type": "code",
   "execution_count": 26,
   "metadata": {},
   "outputs": [],
   "source": [
    "integral_range = [0, 30]"
   ]
  },
  {
   "cell_type": "code",
   "execution_count": 27,
   "metadata": {},
   "outputs": [],
   "source": [
    "eval_times = np.linspace(0, 30, 10000)"
   ]
  },
  {
   "cell_type": "code",
   "execution_count": 28,
   "metadata": {},
   "outputs": [],
   "source": [
    "result = solve_ivp(transition_model, integral_range, y0=initial_state, t_eval=eval_times)"
   ]
  },
  {
   "cell_type": "code",
   "execution_count": 29,
   "metadata": {},
   "outputs": [
    {
     "data": {
      "text/plain": [
       "  message: 'The solver successfully reached the end of the integration interval.'\n",
       "     nfev: 56\n",
       "     njev: 0\n",
       "      nlu: 0\n",
       "      sol: None\n",
       "   status: 0\n",
       "  success: True\n",
       "        t: array([0.00000000e+00, 3.00030003e-03, 6.00060006e-03, ...,\n",
       "       2.99939994e+01, 2.99969997e+01, 3.00000000e+01])\n",
       " t_events: None\n",
       "        y: array([[33.3, 33.3, 33.3, ..., 33.3, 33.3, 33.3],\n",
       "       [ 0. ,  0. ,  0. , ...,  0. ,  0. ,  0. ],\n",
       "       [ 0. ,  0. ,  0. , ...,  0. ,  0. ,  0. ]])"
      ]
     },
     "execution_count": 29,
     "metadata": {},
     "output_type": "execute_result"
    }
   ],
   "source": [
    "result"
   ]
  },
  {
   "cell_type": "code",
   "execution_count": null,
   "metadata": {},
   "outputs": [],
   "source": []
  }
 ],
 "metadata": {
  "kernelspec": {
   "display_name": "Python 3",
   "language": "python",
   "name": "python3"
  },
  "language_info": {
   "codemirror_mode": {
    "name": "ipython",
    "version": 3
   },
   "file_extension": ".py",
   "mimetype": "text/x-python",
   "name": "python",
   "nbconvert_exporter": "python",
   "pygments_lexer": "ipython3",
   "version": "3.7.3"
  }
 },
 "nbformat": 4,
 "nbformat_minor": 2
}
